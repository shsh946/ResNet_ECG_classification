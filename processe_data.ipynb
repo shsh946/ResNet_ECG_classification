{
 "cells": [
  {
   "cell_type": "code",
   "execution_count": 1,
   "metadata": {},
   "outputs": [],
   "source": [
    "from os import listdir\n",
    "import pickle\n",
    "import pandas as pd"
   ]
  },
  {
   "cell_type": "markdown",
   "metadata": {},
   "source": [
    "# Get all the pid in folder"
   ]
  },
  {
   "cell_type": "code",
   "execution_count": 4,
   "metadata": {},
   "outputs": [
    {
     "name": "stdout",
     "output_type": "stream",
     "text": [
      "{'p771', 'p1889', 'p903', 'p329', 'p454', 'p1414', 'p1952', 'p800', 'p1092', 'p1733', 'p1803', 'p862', 'p517', 'p1041', 'p160', 'p181', 'p618', 'p409', 'p2009', 'p88', 'p4', 'p1946', 'p1844', 'p239', 'p1055', 'p1489', 'p62', 'p2102', 'p112', 'p656', 'p688', 'p1097', 'p692', 'p724', 'p1860', 'p917', 'p1880', 'p1977', 'p114', 'p1439', 'p703', 'p1289', 'p1177', 'p1727', 'p1606', 'p398', 'p1196', 'p2088', 'p829', 'p1166', 'p1136', 'p1381', 'p579', 'p406', 'p1218', 'p767', 'p1383', 'p533', 'p433', 'p1284', 'p1363', 'p2084', 'p653'}\n",
      "Total file number:  63\n"
     ]
    }
   ],
   "source": [
    "pids = []\n",
    "path = \"./ecg_ppg_1024_nonDM/\"\n",
    "files = listdir(path)\n",
    "\n",
    "for file in files:\n",
    "    # only csv file will be loaded\n",
    "    if \".csv\" in file:\n",
    "        pid = file.split('_')[0]\n",
    "        pids.append(pid)\n",
    "     \n",
    "pids = set(pids)\n",
    "print(pids)\n",
    "print(\"Total file number: \", len(pids))"
   ]
  },
  {
   "cell_type": "markdown",
   "metadata": {},
   "source": [
    "# Create pkl files"
   ]
  },
  {
   "cell_type": "code",
   "execution_count": 5,
   "metadata": {},
   "outputs": [],
   "source": [
    "for pid in pids:\n",
    "    seq_data = []\n",
    "    \n",
    "    # use person_time as index\n",
    "    df = pd.read_csv(path + pid + \"_pulses.csv\", index_col=\"group\")\n",
    "\n",
    "    # get person_time in datas\n",
    "    person_time = set(df.index)\n",
    "\n",
    "\n",
    "    for p_id in person_time:\n",
    "        # get pandas frame\n",
    "        p_frame = df.loc[p_id]\n",
    "\n",
    "        for i in range(len(p_frame)):\n",
    "            ppg = []\n",
    "            ecg =[]\n",
    "\n",
    "            pulse = p_frame.iloc[i][\"pulse\"]\n",
    "            pulse = pulse.strip('[')\n",
    "            pulse = pulse.strip(']')\n",
    "            pulse = pulse.split(',')\n",
    "            for amp in pulse:\n",
    "                ppg.append(float(amp))\n",
    "\n",
    "            ecg_pulse = p_frame.iloc[i][\"ecg_pulse\"]\n",
    "            ecg_pulse = ecg_pulse.strip('[')\n",
    "            ecg_pulse = ecg_pulse.strip(']')\n",
    "            ecg_pulse = ecg_pulse.split(',')\n",
    "            for amp in ecg_pulse:\n",
    "                ecg.append(float(amp))\n",
    "\n",
    "            data = {\n",
    "                    'id': p_id + '_' + str(i),\n",
    "                    'pulses_x': ppg,\n",
    "                    'ecg': ecg,\n",
    "                    'label': float(p_frame.iloc[i][\"BG\"])\n",
    "                }\n",
    "\n",
    "            seq_data.append(data)\n",
    "            \n",
    "    with open(path + pid + \".pkl\", \"wb\") as f:\n",
    "        pickle.dump(seq_data, f)"
   ]
  },
  {
   "cell_type": "code",
   "execution_count": null,
   "metadata": {},
   "outputs": [],
   "source": []
  }
 ],
 "metadata": {
  "kernelspec": {
   "display_name": "Python 3",
   "language": "python",
   "name": "python3"
  },
  "language_info": {
   "codemirror_mode": {
    "name": "ipython",
    "version": 3
   },
   "file_extension": ".py",
   "mimetype": "text/x-python",
   "name": "python",
   "nbconvert_exporter": "python",
   "pygments_lexer": "ipython3",
   "version": "3.7.1"
  }
 },
 "nbformat": 4,
 "nbformat_minor": 2
}
